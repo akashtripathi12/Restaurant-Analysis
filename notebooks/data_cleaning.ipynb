{
 "cells": [
  {
   "cell_type": "markdown",
   "id": "b3e0f0e1-091b-435f-b330-78d9034feedb",
   "metadata": {},
   "source": [
    "# Data Cleaning for Restaurant Analytics System\n",
    "\n",
    "In this notebook, we will clean and preprocess two datasets:\n",
    "1. **Orders.xlsx**: Contains order details.\n",
    "2. **Restaurants.xlsx**: Contains restaurant inventory/menu information.\n",
    "\n",
    "We will:\n",
    "- Load the datasets\n",
    "- Standardize, clean, and preprocess the data\n",
    "- Merge the datasets (if necessary)\n",
    "- Save the cleaned data for further analysis"
   ]
  },
  {
   "cell_type": "code",
   "execution_count": 37,
   "id": "89819182-c9cc-40e6-8606-bc58d4223ced",
   "metadata": {},
   "outputs": [],
   "source": [
    "# Importing necessary libraries\n",
    "import pandas as pd\n",
    "import numpy as np\n",
    "import matplotlib.pyplot as plt\n",
    "import seaborn as sns"
   ]
  },
  {
   "cell_type": "markdown",
   "id": "8e3d81aa-4591-4de7-9ddf-3eb3dde41db7",
   "metadata": {},
   "source": [
    "## Orders Dataset"
   ]
  },
  {
   "cell_type": "code",
   "execution_count": 38,
   "id": "65d4870e-d232-4ae7-96c6-2b7aa3df44db",
   "metadata": {
    "scrolled": true
   },
   "outputs": [
    {
     "data": {
      "text/html": [
       "<div>\n",
       "<style scoped>\n",
       "    .dataframe tbody tr th:only-of-type {\n",
       "        vertical-align: middle;\n",
       "    }\n",
       "\n",
       "    .dataframe tbody tr th {\n",
       "        vertical-align: top;\n",
       "    }\n",
       "\n",
       "    .dataframe thead th {\n",
       "        text-align: right;\n",
       "    }\n",
       "</style>\n",
       "<table border=\"1\" class=\"dataframe\">\n",
       "  <thead>\n",
       "    <tr style=\"text-align: right;\">\n",
       "      <th></th>\n",
       "      <th>Order ID</th>\n",
       "      <th>Customer Name</th>\n",
       "      <th>Restaurant ID</th>\n",
       "      <th>Order Date</th>\n",
       "      <th>Quantity of Items</th>\n",
       "      <th>Order Amount</th>\n",
       "      <th>Payment Mode</th>\n",
       "      <th>Delivery Time Taken (mins)</th>\n",
       "      <th>Customer Rating-Food</th>\n",
       "      <th>Customer Rating-Delivery</th>\n",
       "    </tr>\n",
       "  </thead>\n",
       "  <tbody>\n",
       "    <tr>\n",
       "      <th>0</th>\n",
       "      <td>OD1</td>\n",
       "      <td>Srini</td>\n",
       "      <td>6</td>\n",
       "      <td>2022-01-01 23:15:00</td>\n",
       "      <td>5</td>\n",
       "      <td>633</td>\n",
       "      <td>Debit Card</td>\n",
       "      <td>47</td>\n",
       "      <td>5</td>\n",
       "      <td>3</td>\n",
       "    </tr>\n",
       "    <tr>\n",
       "      <th>1</th>\n",
       "      <td>OD2</td>\n",
       "      <td>Revandh</td>\n",
       "      <td>13</td>\n",
       "      <td>2022-01-01 19:21:00</td>\n",
       "      <td>5</td>\n",
       "      <td>258</td>\n",
       "      <td>Credit Card</td>\n",
       "      <td>41</td>\n",
       "      <td>3</td>\n",
       "      <td>5</td>\n",
       "    </tr>\n",
       "    <tr>\n",
       "      <th>2</th>\n",
       "      <td>OD3</td>\n",
       "      <td>David</td>\n",
       "      <td>9</td>\n",
       "      <td>2022-01-01 23:15:00</td>\n",
       "      <td>7</td>\n",
       "      <td>594</td>\n",
       "      <td>Cash on Delivery</td>\n",
       "      <td>30</td>\n",
       "      <td>3</td>\n",
       "      <td>4</td>\n",
       "    </tr>\n",
       "    <tr>\n",
       "      <th>3</th>\n",
       "      <td>OD4</td>\n",
       "      <td>Selva</td>\n",
       "      <td>4</td>\n",
       "      <td>2022-01-01 20:31:00</td>\n",
       "      <td>5</td>\n",
       "      <td>868</td>\n",
       "      <td>Cash on Delivery</td>\n",
       "      <td>30</td>\n",
       "      <td>3</td>\n",
       "      <td>4</td>\n",
       "    </tr>\n",
       "    <tr>\n",
       "      <th>4</th>\n",
       "      <td>OD5</td>\n",
       "      <td>Vinny</td>\n",
       "      <td>4</td>\n",
       "      <td>2022-01-01 11:10:00</td>\n",
       "      <td>4</td>\n",
       "      <td>170</td>\n",
       "      <td>Debit Card</td>\n",
       "      <td>18</td>\n",
       "      <td>4</td>\n",
       "      <td>3</td>\n",
       "    </tr>\n",
       "  </tbody>\n",
       "</table>\n",
       "</div>"
      ],
      "text/plain": [
       "  Order ID Customer Name  Restaurant ID          Order Date  \\\n",
       "0      OD1         Srini              6 2022-01-01 23:15:00   \n",
       "1      OD2       Revandh             13 2022-01-01 19:21:00   \n",
       "2      OD3         David              9 2022-01-01 23:15:00   \n",
       "3      OD4         Selva              4 2022-01-01 20:31:00   \n",
       "4      OD5         Vinny              4 2022-01-01 11:10:00   \n",
       "\n",
       "   Quantity of Items  Order Amount      Payment Mode  \\\n",
       "0                  5           633        Debit Card   \n",
       "1                  5           258       Credit Card   \n",
       "2                  7           594  Cash on Delivery   \n",
       "3                  5           868  Cash on Delivery   \n",
       "4                  4           170        Debit Card   \n",
       "\n",
       "   Delivery Time Taken (mins)  Customer Rating-Food  Customer Rating-Delivery  \n",
       "0                          47                     5                         3  \n",
       "1                          41                     3                         5  \n",
       "2                          30                     3                         4  \n",
       "3                          30                     3                         4  \n",
       "4                          18                     4                         3  "
      ]
     },
     "execution_count": 38,
     "metadata": {},
     "output_type": "execute_result"
    }
   ],
   "source": [
    "# Load the Orders Dataset\n",
    "orders = pd.read_excel('../data/raw/Orders.xlsx')\n",
    "orders.head()"
   ]
  },
  {
   "cell_type": "code",
   "execution_count": 39,
   "id": "28adfcba-025f-4ae0-9082-2d4c4ff35581",
   "metadata": {},
   "outputs": [
    {
     "data": {
      "text/plain": [
       "(500, 10)"
      ]
     },
     "execution_count": 39,
     "metadata": {},
     "output_type": "execute_result"
    }
   ],
   "source": [
    "# Inspecting the size of the excel\n",
    "orders.shape"
   ]
  },
  {
   "cell_type": "code",
   "execution_count": 40,
   "id": "23c9b04c-6ae9-4384-8e9d-23c52a0fb8b5",
   "metadata": {
    "scrolled": true
   },
   "outputs": [
    {
     "name": "stdout",
     "output_type": "stream",
     "text": [
      "<class 'pandas.core.frame.DataFrame'>\n",
      "RangeIndex: 500 entries, 0 to 499\n",
      "Data columns (total 10 columns):\n",
      " #   Column                      Non-Null Count  Dtype         \n",
      "---  ------                      --------------  -----         \n",
      " 0   Order ID                    500 non-null    object        \n",
      " 1   Customer Name               500 non-null    object        \n",
      " 2   Restaurant ID               500 non-null    int64         \n",
      " 3   Order Date                  500 non-null    datetime64[ns]\n",
      " 4   Quantity of Items           500 non-null    int64         \n",
      " 5   Order Amount                500 non-null    int64         \n",
      " 6   Payment Mode                500 non-null    object        \n",
      " 7   Delivery Time Taken (mins)  500 non-null    int64         \n",
      " 8   Customer Rating-Food        500 non-null    int64         \n",
      " 9   Customer Rating-Delivery    500 non-null    int64         \n",
      "dtypes: datetime64[ns](1), int64(6), object(3)\n",
      "memory usage: 39.2+ KB\n"
     ]
    }
   ],
   "source": [
    "# Inspecting columns and data types\n",
    "orders.info()"
   ]
  },
  {
   "cell_type": "code",
   "execution_count": 41,
   "id": "87abba32-f066-4136-b96c-4f22dc3deac3",
   "metadata": {},
   "outputs": [
    {
     "data": {
      "text/plain": [
       "Order ID                      0\n",
       "Customer Name                 0\n",
       "Restaurant ID                 0\n",
       "Order Date                    0\n",
       "Quantity of Items             0\n",
       "Order Amount                  0\n",
       "Payment Mode                  0\n",
       "Delivery Time Taken (mins)    0\n",
       "Customer Rating-Food          0\n",
       "Customer Rating-Delivery      0\n",
       "dtype: int64"
      ]
     },
     "execution_count": 41,
     "metadata": {},
     "output_type": "execute_result"
    }
   ],
   "source": [
    "# Checking for missing values\n",
    "orders.isnull().sum()"
   ]
  },
  {
   "cell_type": "code",
   "execution_count": 42,
   "id": "0f6ac287-8292-4173-aa2e-e4a069c8cdec",
   "metadata": {},
   "outputs": [
    {
     "data": {
      "text/plain": [
       "0"
      ]
     },
     "execution_count": 42,
     "metadata": {},
     "output_type": "execute_result"
    }
   ],
   "source": [
    "# Checking for duplicates\n",
    "orders.duplicated().sum()"
   ]
  },
  {
   "cell_type": "code",
   "execution_count": 43,
   "id": "af92da60-2187-4f53-9ad2-f862c76c981a",
   "metadata": {},
   "outputs": [
    {
     "data": {
      "text/html": [
       "<div>\n",
       "<style scoped>\n",
       "    .dataframe tbody tr th:only-of-type {\n",
       "        vertical-align: middle;\n",
       "    }\n",
       "\n",
       "    .dataframe tbody tr th {\n",
       "        vertical-align: top;\n",
       "    }\n",
       "\n",
       "    .dataframe thead th {\n",
       "        text-align: right;\n",
       "    }\n",
       "</style>\n",
       "<table border=\"1\" class=\"dataframe\">\n",
       "  <thead>\n",
       "    <tr style=\"text-align: right;\">\n",
       "      <th></th>\n",
       "      <th>Restaurant ID</th>\n",
       "      <th>Order Date</th>\n",
       "      <th>Quantity of Items</th>\n",
       "      <th>Order Amount</th>\n",
       "      <th>Delivery Time Taken (mins)</th>\n",
       "      <th>Customer Rating-Food</th>\n",
       "      <th>Customer Rating-Delivery</th>\n",
       "    </tr>\n",
       "  </thead>\n",
       "  <tbody>\n",
       "    <tr>\n",
       "      <th>count</th>\n",
       "      <td>500.000000</td>\n",
       "      <td>500</td>\n",
       "      <td>500.000000</td>\n",
       "      <td>500.000000</td>\n",
       "      <td>500.000000</td>\n",
       "      <td>500.000000</td>\n",
       "      <td>500.000000</td>\n",
       "    </tr>\n",
       "    <tr>\n",
       "      <th>mean</th>\n",
       "      <td>10.672000</td>\n",
       "      <td>2022-01-01 16:23:45.359999744</td>\n",
       "      <td>4.652000</td>\n",
       "      <td>598.142000</td>\n",
       "      <td>30.542000</td>\n",
       "      <td>3.362000</td>\n",
       "      <td>2.992000</td>\n",
       "    </tr>\n",
       "    <tr>\n",
       "      <th>min</th>\n",
       "      <td>1.000000</td>\n",
       "      <td>2022-01-01 11:10:00</td>\n",
       "      <td>1.000000</td>\n",
       "      <td>3.000000</td>\n",
       "      <td>10.000000</td>\n",
       "      <td>1.000000</td>\n",
       "      <td>1.000000</td>\n",
       "    </tr>\n",
       "    <tr>\n",
       "      <th>25%</th>\n",
       "      <td>5.750000</td>\n",
       "      <td>2022-01-01 13:30:00</td>\n",
       "      <td>4.000000</td>\n",
       "      <td>398.500000</td>\n",
       "      <td>21.000000</td>\n",
       "      <td>2.000000</td>\n",
       "      <td>2.000000</td>\n",
       "    </tr>\n",
       "    <tr>\n",
       "      <th>50%</th>\n",
       "      <td>11.000000</td>\n",
       "      <td>2022-01-01 14:31:00</td>\n",
       "      <td>5.000000</td>\n",
       "      <td>610.500000</td>\n",
       "      <td>30.000000</td>\n",
       "      <td>3.000000</td>\n",
       "      <td>3.000000</td>\n",
       "    </tr>\n",
       "    <tr>\n",
       "      <th>75%</th>\n",
       "      <td>16.000000</td>\n",
       "      <td>2022-01-01 20:31:00</td>\n",
       "      <td>6.000000</td>\n",
       "      <td>828.500000</td>\n",
       "      <td>41.000000</td>\n",
       "      <td>4.000000</td>\n",
       "      <td>4.000000</td>\n",
       "    </tr>\n",
       "    <tr>\n",
       "      <th>max</th>\n",
       "      <td>20.000000</td>\n",
       "      <td>2022-01-01 23:58:00</td>\n",
       "      <td>7.000000</td>\n",
       "      <td>1198.000000</td>\n",
       "      <td>50.000000</td>\n",
       "      <td>5.000000</td>\n",
       "      <td>5.000000</td>\n",
       "    </tr>\n",
       "    <tr>\n",
       "      <th>std</th>\n",
       "      <td>5.960829</td>\n",
       "      <td>NaN</td>\n",
       "      <td>1.623628</td>\n",
       "      <td>296.613981</td>\n",
       "      <td>11.883209</td>\n",
       "      <td>1.240174</td>\n",
       "      <td>1.392773</td>\n",
       "    </tr>\n",
       "  </tbody>\n",
       "</table>\n",
       "</div>"
      ],
      "text/plain": [
       "       Restaurant ID                     Order Date  Quantity of Items  \\\n",
       "count     500.000000                            500         500.000000   \n",
       "mean       10.672000  2022-01-01 16:23:45.359999744           4.652000   \n",
       "min         1.000000            2022-01-01 11:10:00           1.000000   \n",
       "25%         5.750000            2022-01-01 13:30:00           4.000000   \n",
       "50%        11.000000            2022-01-01 14:31:00           5.000000   \n",
       "75%        16.000000            2022-01-01 20:31:00           6.000000   \n",
       "max        20.000000            2022-01-01 23:58:00           7.000000   \n",
       "std         5.960829                            NaN           1.623628   \n",
       "\n",
       "       Order Amount  Delivery Time Taken (mins)  Customer Rating-Food  \\\n",
       "count    500.000000                  500.000000            500.000000   \n",
       "mean     598.142000                   30.542000              3.362000   \n",
       "min        3.000000                   10.000000              1.000000   \n",
       "25%      398.500000                   21.000000              2.000000   \n",
       "50%      610.500000                   30.000000              3.000000   \n",
       "75%      828.500000                   41.000000              4.000000   \n",
       "max     1198.000000                   50.000000              5.000000   \n",
       "std      296.613981                   11.883209              1.240174   \n",
       "\n",
       "       Customer Rating-Delivery  \n",
       "count                500.000000  \n",
       "mean                   2.992000  \n",
       "min                    1.000000  \n",
       "25%                    2.000000  \n",
       "50%                    3.000000  \n",
       "75%                    4.000000  \n",
       "max                    5.000000  \n",
       "std                    1.392773  "
      ]
     },
     "execution_count": 43,
     "metadata": {},
     "output_type": "execute_result"
    }
   ],
   "source": [
    "# Viewing basic statistics for numerical columns\n",
    "orders.describe()"
   ]
  },
  {
   "cell_type": "markdown",
   "id": "06618c49-b943-4bf6-b759-9b8d7b2e3481",
   "metadata": {},
   "source": [
    "### Data Cleaning for Orders Dataset:\n",
    "- Replacing the column names with lowercase and replacing the spaces with underscore.\n",
    "- Extracting meaningful time-based features from order_date for further analysis.\n",
    "- Converting the data type of `payment_mode` from `object` to `category`."
   ]
  },
  {
   "cell_type": "code",
   "execution_count": 44,
   "id": "4fa7c9a9-f604-4802-b5ae-cf27a9f7c254",
   "metadata": {},
   "outputs": [
    {
     "data": {
      "text/plain": [
       "Index(['order_id', 'customer_name', 'restaurant_id', 'order_date',\n",
       "       'quantity_of_items', 'order_amount', 'payment_mode',\n",
       "       'delivery_time_taken_(mins)', 'customer_rating_food',\n",
       "       'customer_rating_delivery'],\n",
       "      dtype='object')"
      ]
     },
     "execution_count": 44,
     "metadata": {},
     "output_type": "execute_result"
    }
   ],
   "source": [
    "# Clean column names: lowercase, replace spaces with underscores\n",
    "orders.columns = orders.columns.str.strip().str.lower().str.replace(' ', '_').str.replace('-','_')\n",
    "orders.columns"
   ]
  },
  {
   "cell_type": "code",
   "execution_count": 45,
   "id": "adecf1f9-8e9b-4b3a-b775-2b99851ef9c5",
   "metadata": {},
   "outputs": [],
   "source": [
    "# Extract meaningful time-based features from order_date\n",
    "orders['day'] = orders['order_date'].dt.date\n",
    "orders['hour'] = orders['order_date'].dt.hour\n",
    "orders['weekday'] = orders['order_date'].dt.dayofweek\n",
    "orders['month'] = orders['order_date'].dt.month\n",
    "\n",
    "# Extracting weekends from the order_date\n",
    "orders['is_weekend'] = orders['weekday'].apply(lambda x: x >= 5)"
   ]
  },
  {
   "cell_type": "markdown",
   "id": "66801537-63d8-4a5b-9975-2145c7d5fae0",
   "metadata": {},
   "source": [
    "#### Standardizing the values of each column"
   ]
  },
  {
   "cell_type": "code",
   "execution_count": 46,
   "id": "b4699c24-d904-4fd8-ae56-7eb0e659c12a",
   "metadata": {},
   "outputs": [
    {
     "data": {
      "text/html": [
       "<div>\n",
       "<style scoped>\n",
       "    .dataframe tbody tr th:only-of-type {\n",
       "        vertical-align: middle;\n",
       "    }\n",
       "\n",
       "    .dataframe tbody tr th {\n",
       "        vertical-align: top;\n",
       "    }\n",
       "\n",
       "    .dataframe thead th {\n",
       "        text-align: right;\n",
       "    }\n",
       "</style>\n",
       "<table border=\"1\" class=\"dataframe\">\n",
       "  <thead>\n",
       "    <tr style=\"text-align: right;\">\n",
       "      <th></th>\n",
       "      <th>order_id</th>\n",
       "      <th>customer_name</th>\n",
       "      <th>restaurant_id</th>\n",
       "      <th>order_date</th>\n",
       "      <th>quantity_of_items</th>\n",
       "      <th>order_amount</th>\n",
       "      <th>payment_mode</th>\n",
       "      <th>delivery_time_taken_(mins)</th>\n",
       "      <th>customer_rating_food</th>\n",
       "      <th>customer_rating_delivery</th>\n",
       "      <th>day</th>\n",
       "      <th>hour</th>\n",
       "      <th>weekday</th>\n",
       "      <th>month</th>\n",
       "      <th>is_weekend</th>\n",
       "    </tr>\n",
       "  </thead>\n",
       "  <tbody>\n",
       "    <tr>\n",
       "      <th>0</th>\n",
       "      <td>OD1</td>\n",
       "      <td>srini</td>\n",
       "      <td>6</td>\n",
       "      <td>2022-01-01 23:15:00</td>\n",
       "      <td>5</td>\n",
       "      <td>633</td>\n",
       "      <td>debit_card</td>\n",
       "      <td>47</td>\n",
       "      <td>5</td>\n",
       "      <td>3</td>\n",
       "      <td>2022-01-01</td>\n",
       "      <td>23</td>\n",
       "      <td>5</td>\n",
       "      <td>1</td>\n",
       "      <td>weekend</td>\n",
       "    </tr>\n",
       "    <tr>\n",
       "      <th>1</th>\n",
       "      <td>OD2</td>\n",
       "      <td>revandh</td>\n",
       "      <td>13</td>\n",
       "      <td>2022-01-01 19:21:00</td>\n",
       "      <td>5</td>\n",
       "      <td>258</td>\n",
       "      <td>credit_card</td>\n",
       "      <td>41</td>\n",
       "      <td>3</td>\n",
       "      <td>5</td>\n",
       "      <td>2022-01-01</td>\n",
       "      <td>19</td>\n",
       "      <td>5</td>\n",
       "      <td>1</td>\n",
       "      <td>weekend</td>\n",
       "    </tr>\n",
       "    <tr>\n",
       "      <th>2</th>\n",
       "      <td>OD3</td>\n",
       "      <td>david</td>\n",
       "      <td>9</td>\n",
       "      <td>2022-01-01 23:15:00</td>\n",
       "      <td>7</td>\n",
       "      <td>594</td>\n",
       "      <td>cash_on_delivery</td>\n",
       "      <td>30</td>\n",
       "      <td>3</td>\n",
       "      <td>4</td>\n",
       "      <td>2022-01-01</td>\n",
       "      <td>23</td>\n",
       "      <td>5</td>\n",
       "      <td>1</td>\n",
       "      <td>weekend</td>\n",
       "    </tr>\n",
       "    <tr>\n",
       "      <th>3</th>\n",
       "      <td>OD4</td>\n",
       "      <td>selva</td>\n",
       "      <td>4</td>\n",
       "      <td>2022-01-01 20:31:00</td>\n",
       "      <td>5</td>\n",
       "      <td>868</td>\n",
       "      <td>cash_on_delivery</td>\n",
       "      <td>30</td>\n",
       "      <td>3</td>\n",
       "      <td>4</td>\n",
       "      <td>2022-01-01</td>\n",
       "      <td>20</td>\n",
       "      <td>5</td>\n",
       "      <td>1</td>\n",
       "      <td>weekend</td>\n",
       "    </tr>\n",
       "    <tr>\n",
       "      <th>4</th>\n",
       "      <td>OD5</td>\n",
       "      <td>vinny</td>\n",
       "      <td>4</td>\n",
       "      <td>2022-01-01 11:10:00</td>\n",
       "      <td>4</td>\n",
       "      <td>170</td>\n",
       "      <td>debit_card</td>\n",
       "      <td>18</td>\n",
       "      <td>4</td>\n",
       "      <td>3</td>\n",
       "      <td>2022-01-01</td>\n",
       "      <td>11</td>\n",
       "      <td>5</td>\n",
       "      <td>1</td>\n",
       "      <td>weekend</td>\n",
       "    </tr>\n",
       "  </tbody>\n",
       "</table>\n",
       "</div>"
      ],
      "text/plain": [
       "  order_id customer_name  restaurant_id          order_date  \\\n",
       "0      OD1         srini              6 2022-01-01 23:15:00   \n",
       "1      OD2       revandh             13 2022-01-01 19:21:00   \n",
       "2      OD3         david              9 2022-01-01 23:15:00   \n",
       "3      OD4         selva              4 2022-01-01 20:31:00   \n",
       "4      OD5         vinny              4 2022-01-01 11:10:00   \n",
       "\n",
       "   quantity_of_items  order_amount      payment_mode  \\\n",
       "0                  5           633        debit_card   \n",
       "1                  5           258       credit_card   \n",
       "2                  7           594  cash_on_delivery   \n",
       "3                  5           868  cash_on_delivery   \n",
       "4                  4           170        debit_card   \n",
       "\n",
       "   delivery_time_taken_(mins)  customer_rating_food  customer_rating_delivery  \\\n",
       "0                          47                     5                         3   \n",
       "1                          41                     3                         5   \n",
       "2                          30                     3                         4   \n",
       "3                          30                     3                         4   \n",
       "4                          18                     4                         3   \n",
       "\n",
       "          day  hour  weekday  month is_weekend  \n",
       "0  2022-01-01    23        5      1    weekend  \n",
       "1  2022-01-01    19        5      1    weekend  \n",
       "2  2022-01-01    23        5      1    weekend  \n",
       "3  2022-01-01    20        5      1    weekend  \n",
       "4  2022-01-01    11        5      1    weekend  "
      ]
     },
     "execution_count": 46,
     "metadata": {},
     "output_type": "execute_result"
    }
   ],
   "source": [
    "# Converting customer_name and payment_mode in the same format\n",
    "orders['customer_name'] = orders['customer_name'].str.strip().str.lower()\n",
    "orders['payment_mode'] = orders['payment_mode'].str.strip().str.lower().str.replace(' ', '_')\n",
    "\n",
    "# Replacing value of is_weekend to make it more analytics friendly\n",
    "orders['is_weekend'] = orders['is_weekend'].replace({True: 'weekend', False: 'weekday'})\n",
    "\n",
    "orders.head()"
   ]
  },
  {
   "cell_type": "code",
   "execution_count": 47,
   "id": "c0af9cef-6efa-4ba8-ac95-e60e63f44c19",
   "metadata": {},
   "outputs": [],
   "source": [
    "# Converting data type from object to category\n",
    "orders['payment_mode'] = orders['payment_mode'].astype('category')\n",
    "orders['is_weekend'] = orders['is_weekend'].astype('category')"
   ]
  },
  {
   "cell_type": "code",
   "execution_count": 48,
   "id": "4c1e20b9-67d9-4c6f-bd0c-3e3f57a2253d",
   "metadata": {},
   "outputs": [
    {
     "data": {
      "text/plain": [
       "order_id                              object\n",
       "customer_name                         object\n",
       "restaurant_id                          int64\n",
       "order_date                    datetime64[ns]\n",
       "quantity_of_items                      int64\n",
       "order_amount                           int64\n",
       "payment_mode                        category\n",
       "delivery_time_taken_(mins)             int64\n",
       "customer_rating_food                   int64\n",
       "customer_rating_delivery               int64\n",
       "day                                   object\n",
       "hour                                   int32\n",
       "weekday                                int32\n",
       "month                                  int32\n",
       "is_weekend                          category\n",
       "dtype: object"
      ]
     },
     "execution_count": 48,
     "metadata": {},
     "output_type": "execute_result"
    }
   ],
   "source": [
    "orders.dtypes"
   ]
  },
  {
   "cell_type": "code",
   "execution_count": 49,
   "id": "f947fee2-5743-436c-9bee-786ce9399487",
   "metadata": {},
   "outputs": [
    {
     "data": {
      "text/html": [
       "<div>\n",
       "<style scoped>\n",
       "    .dataframe tbody tr th:only-of-type {\n",
       "        vertical-align: middle;\n",
       "    }\n",
       "\n",
       "    .dataframe tbody tr th {\n",
       "        vertical-align: top;\n",
       "    }\n",
       "\n",
       "    .dataframe thead th {\n",
       "        text-align: right;\n",
       "    }\n",
       "</style>\n",
       "<table border=\"1\" class=\"dataframe\">\n",
       "  <thead>\n",
       "    <tr style=\"text-align: right;\">\n",
       "      <th></th>\n",
       "      <th>restaurant_id</th>\n",
       "      <th>order_date</th>\n",
       "      <th>quantity_of_items</th>\n",
       "      <th>order_amount</th>\n",
       "      <th>delivery_time_taken_(mins)</th>\n",
       "      <th>customer_rating_food</th>\n",
       "      <th>customer_rating_delivery</th>\n",
       "      <th>hour</th>\n",
       "      <th>weekday</th>\n",
       "      <th>month</th>\n",
       "    </tr>\n",
       "  </thead>\n",
       "  <tbody>\n",
       "    <tr>\n",
       "      <th>count</th>\n",
       "      <td>500.000000</td>\n",
       "      <td>500</td>\n",
       "      <td>500.000000</td>\n",
       "      <td>500.000000</td>\n",
       "      <td>500.000000</td>\n",
       "      <td>500.000000</td>\n",
       "      <td>500.000000</td>\n",
       "      <td>500.00000</td>\n",
       "      <td>500.0</td>\n",
       "      <td>500.0</td>\n",
       "    </tr>\n",
       "    <tr>\n",
       "      <th>mean</th>\n",
       "      <td>10.672000</td>\n",
       "      <td>2022-01-01 16:23:45.359999744</td>\n",
       "      <td>4.652000</td>\n",
       "      <td>598.142000</td>\n",
       "      <td>30.542000</td>\n",
       "      <td>3.362000</td>\n",
       "      <td>2.992000</td>\n",
       "      <td>16.00000</td>\n",
       "      <td>5.0</td>\n",
       "      <td>1.0</td>\n",
       "    </tr>\n",
       "    <tr>\n",
       "      <th>min</th>\n",
       "      <td>1.000000</td>\n",
       "      <td>2022-01-01 11:10:00</td>\n",
       "      <td>1.000000</td>\n",
       "      <td>3.000000</td>\n",
       "      <td>10.000000</td>\n",
       "      <td>1.000000</td>\n",
       "      <td>1.000000</td>\n",
       "      <td>11.00000</td>\n",
       "      <td>5.0</td>\n",
       "      <td>1.0</td>\n",
       "    </tr>\n",
       "    <tr>\n",
       "      <th>25%</th>\n",
       "      <td>5.750000</td>\n",
       "      <td>2022-01-01 13:30:00</td>\n",
       "      <td>4.000000</td>\n",
       "      <td>398.500000</td>\n",
       "      <td>21.000000</td>\n",
       "      <td>2.000000</td>\n",
       "      <td>2.000000</td>\n",
       "      <td>13.00000</td>\n",
       "      <td>5.0</td>\n",
       "      <td>1.0</td>\n",
       "    </tr>\n",
       "    <tr>\n",
       "      <th>50%</th>\n",
       "      <td>11.000000</td>\n",
       "      <td>2022-01-01 14:31:00</td>\n",
       "      <td>5.000000</td>\n",
       "      <td>610.500000</td>\n",
       "      <td>30.000000</td>\n",
       "      <td>3.000000</td>\n",
       "      <td>3.000000</td>\n",
       "      <td>14.00000</td>\n",
       "      <td>5.0</td>\n",
       "      <td>1.0</td>\n",
       "    </tr>\n",
       "    <tr>\n",
       "      <th>75%</th>\n",
       "      <td>16.000000</td>\n",
       "      <td>2022-01-01 20:31:00</td>\n",
       "      <td>6.000000</td>\n",
       "      <td>828.500000</td>\n",
       "      <td>41.000000</td>\n",
       "      <td>4.000000</td>\n",
       "      <td>4.000000</td>\n",
       "      <td>20.00000</td>\n",
       "      <td>5.0</td>\n",
       "      <td>1.0</td>\n",
       "    </tr>\n",
       "    <tr>\n",
       "      <th>max</th>\n",
       "      <td>20.000000</td>\n",
       "      <td>2022-01-01 23:58:00</td>\n",
       "      <td>7.000000</td>\n",
       "      <td>1198.000000</td>\n",
       "      <td>50.000000</td>\n",
       "      <td>5.000000</td>\n",
       "      <td>5.000000</td>\n",
       "      <td>23.00000</td>\n",
       "      <td>5.0</td>\n",
       "      <td>1.0</td>\n",
       "    </tr>\n",
       "    <tr>\n",
       "      <th>std</th>\n",
       "      <td>5.960829</td>\n",
       "      <td>NaN</td>\n",
       "      <td>1.623628</td>\n",
       "      <td>296.613981</td>\n",
       "      <td>11.883209</td>\n",
       "      <td>1.240174</td>\n",
       "      <td>1.392773</td>\n",
       "      <td>4.03144</td>\n",
       "      <td>0.0</td>\n",
       "      <td>0.0</td>\n",
       "    </tr>\n",
       "  </tbody>\n",
       "</table>\n",
       "</div>"
      ],
      "text/plain": [
       "       restaurant_id                     order_date  quantity_of_items  \\\n",
       "count     500.000000                            500         500.000000   \n",
       "mean       10.672000  2022-01-01 16:23:45.359999744           4.652000   \n",
       "min         1.000000            2022-01-01 11:10:00           1.000000   \n",
       "25%         5.750000            2022-01-01 13:30:00           4.000000   \n",
       "50%        11.000000            2022-01-01 14:31:00           5.000000   \n",
       "75%        16.000000            2022-01-01 20:31:00           6.000000   \n",
       "max        20.000000            2022-01-01 23:58:00           7.000000   \n",
       "std         5.960829                            NaN           1.623628   \n",
       "\n",
       "       order_amount  delivery_time_taken_(mins)  customer_rating_food  \\\n",
       "count    500.000000                  500.000000            500.000000   \n",
       "mean     598.142000                   30.542000              3.362000   \n",
       "min        3.000000                   10.000000              1.000000   \n",
       "25%      398.500000                   21.000000              2.000000   \n",
       "50%      610.500000                   30.000000              3.000000   \n",
       "75%      828.500000                   41.000000              4.000000   \n",
       "max     1198.000000                   50.000000              5.000000   \n",
       "std      296.613981                   11.883209              1.240174   \n",
       "\n",
       "       customer_rating_delivery       hour  weekday  month  \n",
       "count                500.000000  500.00000    500.0  500.0  \n",
       "mean                   2.992000   16.00000      5.0    1.0  \n",
       "min                    1.000000   11.00000      5.0    1.0  \n",
       "25%                    2.000000   13.00000      5.0    1.0  \n",
       "50%                    3.000000   14.00000      5.0    1.0  \n",
       "75%                    4.000000   20.00000      5.0    1.0  \n",
       "max                    5.000000   23.00000      5.0    1.0  \n",
       "std                    1.392773    4.03144      0.0    0.0  "
      ]
     },
     "execution_count": 49,
     "metadata": {},
     "output_type": "execute_result"
    }
   ],
   "source": [
    "orders.describe()"
   ]
  },
  {
   "cell_type": "markdown",
   "id": "afc80c5f-298b-4e68-8d90-9ed24cdd507f",
   "metadata": {},
   "source": [
    "- Certain anamoly here as the __order_amount__'s minimum value is __$3__ which can be a possible business error\n",
    "- No outliers as such are found here"
   ]
  },
  {
   "cell_type": "code",
   "execution_count": 50,
   "id": "e9a9904c-eebd-4e8e-84d9-487361378d38",
   "metadata": {},
   "outputs": [],
   "source": [
    "# Storing the cleaned orders data\n",
    "orders.to_pickle('../data/cleaned/orders_cleaned.pkl')"
   ]
  },
  {
   "cell_type": "markdown",
   "id": "d6250e42-830e-4ffa-b8d7-f68a1fe190ee",
   "metadata": {},
   "source": [
    "## Restaurants Dataset"
   ]
  },
  {
   "cell_type": "code",
   "execution_count": 51,
   "id": "576b448d-d8a0-4b5a-841f-c52c78d41ff3",
   "metadata": {},
   "outputs": [
    {
     "data": {
      "text/html": [
       "<div>\n",
       "<style scoped>\n",
       "    .dataframe tbody tr th:only-of-type {\n",
       "        vertical-align: middle;\n",
       "    }\n",
       "\n",
       "    .dataframe tbody tr th {\n",
       "        vertical-align: top;\n",
       "    }\n",
       "\n",
       "    .dataframe thead th {\n",
       "        text-align: right;\n",
       "    }\n",
       "</style>\n",
       "<table border=\"1\" class=\"dataframe\">\n",
       "  <thead>\n",
       "    <tr style=\"text-align: right;\">\n",
       "      <th></th>\n",
       "      <th>RestaurantID</th>\n",
       "      <th>RestaurantName</th>\n",
       "      <th>Cuisine</th>\n",
       "      <th>Zone</th>\n",
       "      <th>Category</th>\n",
       "    </tr>\n",
       "  </thead>\n",
       "  <tbody>\n",
       "    <tr>\n",
       "      <th>0</th>\n",
       "      <td>1</td>\n",
       "      <td>The Cave Hotel</td>\n",
       "      <td>Continental</td>\n",
       "      <td>Zone B</td>\n",
       "      <td>Pro</td>\n",
       "    </tr>\n",
       "    <tr>\n",
       "      <th>1</th>\n",
       "      <td>2</td>\n",
       "      <td>SSK Hotel</td>\n",
       "      <td>North Indian</td>\n",
       "      <td>Zone D</td>\n",
       "      <td>Pro</td>\n",
       "    </tr>\n",
       "    <tr>\n",
       "      <th>2</th>\n",
       "      <td>3</td>\n",
       "      <td>ASR Restaurant</td>\n",
       "      <td>South Indian</td>\n",
       "      <td>Zone D</td>\n",
       "      <td>Ordinary</td>\n",
       "    </tr>\n",
       "    <tr>\n",
       "      <th>3</th>\n",
       "      <td>4</td>\n",
       "      <td>Win Hotel</td>\n",
       "      <td>South Indian</td>\n",
       "      <td>Zone D</td>\n",
       "      <td>Ordinary</td>\n",
       "    </tr>\n",
       "    <tr>\n",
       "      <th>4</th>\n",
       "      <td>5</td>\n",
       "      <td>Denver Restaurant</td>\n",
       "      <td>Continental</td>\n",
       "      <td>Zone D</td>\n",
       "      <td>Pro</td>\n",
       "    </tr>\n",
       "  </tbody>\n",
       "</table>\n",
       "</div>"
      ],
      "text/plain": [
       "   RestaurantID     RestaurantName       Cuisine    Zone  Category\n",
       "0             1     The Cave Hotel   Continental  Zone B       Pro\n",
       "1             2          SSK Hotel  North Indian  Zone D       Pro\n",
       "2             3     ASR Restaurant  South Indian  Zone D  Ordinary\n",
       "3             4          Win Hotel  South Indian  Zone D  Ordinary\n",
       "4             5  Denver Restaurant   Continental  Zone D       Pro"
      ]
     },
     "execution_count": 51,
     "metadata": {},
     "output_type": "execute_result"
    }
   ],
   "source": [
    "# Load the Restaurants Dataset\n",
    "restaurants = pd.read_excel('../data/raw/Restaurants.xlsx')\n",
    "restaurants.head()"
   ]
  },
  {
   "cell_type": "code",
   "execution_count": 52,
   "id": "a8fb94b4-e661-4e56-b149-bfcd65c16fdd",
   "metadata": {},
   "outputs": [
    {
     "data": {
      "text/plain": [
       "(20, 5)"
      ]
     },
     "execution_count": 52,
     "metadata": {},
     "output_type": "execute_result"
    }
   ],
   "source": [
    "# Inspecting the size of the excel\n",
    "restaurants.shape"
   ]
  },
  {
   "cell_type": "code",
   "execution_count": 53,
   "id": "94ac0d56-29f9-48f8-a931-bb110b82d503",
   "metadata": {},
   "outputs": [
    {
     "name": "stdout",
     "output_type": "stream",
     "text": [
      "<class 'pandas.core.frame.DataFrame'>\n",
      "RangeIndex: 20 entries, 0 to 19\n",
      "Data columns (total 5 columns):\n",
      " #   Column          Non-Null Count  Dtype \n",
      "---  ------          --------------  ----- \n",
      " 0   RestaurantID    20 non-null     int64 \n",
      " 1   RestaurantName  20 non-null     object\n",
      " 2   Cuisine         20 non-null     object\n",
      " 3   Zone            20 non-null     object\n",
      " 4   Category        20 non-null     object\n",
      "dtypes: int64(1), object(4)\n",
      "memory usage: 932.0+ bytes\n"
     ]
    }
   ],
   "source": [
    "# Inspecting columns and data types\n",
    "restaurants.info()"
   ]
  },
  {
   "cell_type": "code",
   "execution_count": 54,
   "id": "054f4d68-ae2c-4722-9122-6bade48c95f2",
   "metadata": {},
   "outputs": [
    {
     "data": {
      "text/plain": [
       "RestaurantID      0\n",
       "RestaurantName    0\n",
       "Cuisine           0\n",
       "Zone              0\n",
       "Category          0\n",
       "dtype: int64"
      ]
     },
     "execution_count": 54,
     "metadata": {},
     "output_type": "execute_result"
    }
   ],
   "source": [
    "# Checking for missing values\n",
    "restaurants.isnull().sum()"
   ]
  },
  {
   "cell_type": "code",
   "execution_count": 55,
   "id": "1749bafc-f856-43b7-b7c1-5cc1856343f0",
   "metadata": {},
   "outputs": [
    {
     "data": {
      "text/plain": [
       "0"
      ]
     },
     "execution_count": 55,
     "metadata": {},
     "output_type": "execute_result"
    }
   ],
   "source": [
    "# Checking for duplicates values\n",
    "restaurants.duplicated().sum()"
   ]
  },
  {
   "cell_type": "code",
   "execution_count": 56,
   "id": "f562aed7-4b43-4279-ad15-680007f2c556",
   "metadata": {},
   "outputs": [
    {
     "name": "stdout",
     "output_type": "stream",
     "text": [
      "20\n",
      "['Pro' 'Ordinary']\n",
      "['Zone B' 'Zone D' 'Zone A' 'Zone C']\n",
      "['Continental' 'North Indian' 'South Indian' 'French' 'Chinese' 'African'\n",
      " 'Arabian' 'Belgian']\n"
     ]
    }
   ],
   "source": [
    "print(restaurants['RestaurantID'].value_counts().sum())\n",
    "print(restaurants['Category'].unique())\n",
    "print(restaurants['Zone'].unique())\n",
    "print(restaurants['Cuisine'].unique())"
   ]
  },
  {
   "cell_type": "markdown",
   "id": "e88fca63-fa0c-4468-a07a-40ca9a42d709",
   "metadata": {},
   "source": [
    "- The __restaurantID__ being 20 shows us that all the restaurant are unique since the shape says that 20 rows are present.\n",
    "- Thus we can see from here that `cuisine`, `zone` and `category` can be marked as data type of `category` only."
   ]
  },
  {
   "cell_type": "markdown",
   "id": "020526eb-f6ce-474d-bbbc-9d8125ec0763",
   "metadata": {},
   "source": [
    "### Data Cleaning for Restaurants Dataset:\n",
    "- Replacing the column names with lowercase and adding underscore wherever required.\n",
    "- Standardizing the data\n",
    "- Converting the data type of `cuisine`, `zone` and `category` from `object` to `category`.\n",
    "- Converting the data type of `ResturantName` from `object` to `string`."
   ]
  },
  {
   "cell_type": "code",
   "execution_count": 57,
   "id": "1526b002-eeee-4a34-a99f-194822d88066",
   "metadata": {},
   "outputs": [
    {
     "data": {
      "text/plain": [
       "Index(['restaurant_id', 'restaurant_name', 'cuisine', 'zone', 'category'], dtype='object')"
      ]
     },
     "execution_count": 57,
     "metadata": {},
     "output_type": "execute_result"
    }
   ],
   "source": [
    "restaurants.rename(columns={\n",
    "    'RestaurantID': 'restaurant_id',\n",
    "    'RestaurantName': 'restaurant_name',\n",
    "    'Cuisine': 'cuisine',\n",
    "    'Zone': 'zone',\n",
    "    'Category': 'category'\n",
    "}, inplace=True)\n",
    "restaurants.columns"
   ]
  },
  {
   "cell_type": "code",
   "execution_count": 58,
   "id": "0404e526-3711-41ea-ac21-1468256b2e20",
   "metadata": {},
   "outputs": [
    {
     "data": {
      "text/html": [
       "<div>\n",
       "<style scoped>\n",
       "    .dataframe tbody tr th:only-of-type {\n",
       "        vertical-align: middle;\n",
       "    }\n",
       "\n",
       "    .dataframe tbody tr th {\n",
       "        vertical-align: top;\n",
       "    }\n",
       "\n",
       "    .dataframe thead th {\n",
       "        text-align: right;\n",
       "    }\n",
       "</style>\n",
       "<table border=\"1\" class=\"dataframe\">\n",
       "  <thead>\n",
       "    <tr style=\"text-align: right;\">\n",
       "      <th></th>\n",
       "      <th>restaurant_id</th>\n",
       "      <th>restaurant_name</th>\n",
       "      <th>cuisine</th>\n",
       "      <th>zone</th>\n",
       "      <th>category</th>\n",
       "    </tr>\n",
       "  </thead>\n",
       "  <tbody>\n",
       "    <tr>\n",
       "      <th>0</th>\n",
       "      <td>1</td>\n",
       "      <td>the_cave_hotel</td>\n",
       "      <td>continental</td>\n",
       "      <td>zone_b</td>\n",
       "      <td>pro</td>\n",
       "    </tr>\n",
       "    <tr>\n",
       "      <th>1</th>\n",
       "      <td>2</td>\n",
       "      <td>ssk_hotel</td>\n",
       "      <td>north_indian</td>\n",
       "      <td>zone_d</td>\n",
       "      <td>pro</td>\n",
       "    </tr>\n",
       "    <tr>\n",
       "      <th>2</th>\n",
       "      <td>3</td>\n",
       "      <td>asr_restaurant</td>\n",
       "      <td>south_indian</td>\n",
       "      <td>zone_d</td>\n",
       "      <td>ordinary</td>\n",
       "    </tr>\n",
       "    <tr>\n",
       "      <th>3</th>\n",
       "      <td>4</td>\n",
       "      <td>win_hotel</td>\n",
       "      <td>south_indian</td>\n",
       "      <td>zone_d</td>\n",
       "      <td>ordinary</td>\n",
       "    </tr>\n",
       "    <tr>\n",
       "      <th>4</th>\n",
       "      <td>5</td>\n",
       "      <td>denver_restaurant</td>\n",
       "      <td>continental</td>\n",
       "      <td>zone_d</td>\n",
       "      <td>pro</td>\n",
       "    </tr>\n",
       "  </tbody>\n",
       "</table>\n",
       "</div>"
      ],
      "text/plain": [
       "   restaurant_id    restaurant_name       cuisine    zone  category\n",
       "0              1     the_cave_hotel   continental  zone_b       pro\n",
       "1              2          ssk_hotel  north_indian  zone_d       pro\n",
       "2              3     asr_restaurant  south_indian  zone_d  ordinary\n",
       "3              4          win_hotel  south_indian  zone_d  ordinary\n",
       "4              5  denver_restaurant   continental  zone_d       pro"
      ]
     },
     "execution_count": 58,
     "metadata": {},
     "output_type": "execute_result"
    }
   ],
   "source": [
    "# Standardizing the data in a format\n",
    "restaurants = restaurants.apply(lambda col: col.str.strip().str.lower().str.replace(' ', '_') if col.dtypes == 'object' else col)\n",
    "restaurants.head()"
   ]
  },
  {
   "cell_type": "code",
   "execution_count": 59,
   "id": "d244e4f4-3398-431e-bc26-ca647dcdd085",
   "metadata": {},
   "outputs": [
    {
     "name": "stdout",
     "output_type": "stream",
     "text": [
      "<class 'pandas.core.frame.DataFrame'>\n",
      "RangeIndex: 20 entries, 0 to 19\n",
      "Data columns (total 5 columns):\n",
      " #   Column           Non-Null Count  Dtype   \n",
      "---  ------           --------------  -----   \n",
      " 0   restaurant_id    20 non-null     int64   \n",
      " 1   restaurant_name  20 non-null     object  \n",
      " 2   cuisine          20 non-null     category\n",
      " 3   zone             20 non-null     category\n",
      " 4   category         20 non-null     category\n",
      "dtypes: category(3), int64(1), object(1)\n",
      "memory usage: 1.2+ KB\n"
     ]
    }
   ],
   "source": [
    "restaurants[['cuisine', 'zone', 'category']] = restaurants[['cuisine', 'zone', 'category']].astype('category')\n",
    "restaurants.info()"
   ]
  },
  {
   "cell_type": "code",
   "execution_count": 60,
   "id": "92c087fd-ba87-4345-8cdf-0f260015c2c1",
   "metadata": {},
   "outputs": [
    {
     "data": {
      "text/html": [
       "<div>\n",
       "<style scoped>\n",
       "    .dataframe tbody tr th:only-of-type {\n",
       "        vertical-align: middle;\n",
       "    }\n",
       "\n",
       "    .dataframe tbody tr th {\n",
       "        vertical-align: top;\n",
       "    }\n",
       "\n",
       "    .dataframe thead th {\n",
       "        text-align: right;\n",
       "    }\n",
       "</style>\n",
       "<table border=\"1\" class=\"dataframe\">\n",
       "  <thead>\n",
       "    <tr style=\"text-align: right;\">\n",
       "      <th></th>\n",
       "      <th>restaurant_id</th>\n",
       "    </tr>\n",
       "  </thead>\n",
       "  <tbody>\n",
       "    <tr>\n",
       "      <th>count</th>\n",
       "      <td>20.00000</td>\n",
       "    </tr>\n",
       "    <tr>\n",
       "      <th>mean</th>\n",
       "      <td>10.50000</td>\n",
       "    </tr>\n",
       "    <tr>\n",
       "      <th>std</th>\n",
       "      <td>5.91608</td>\n",
       "    </tr>\n",
       "    <tr>\n",
       "      <th>min</th>\n",
       "      <td>1.00000</td>\n",
       "    </tr>\n",
       "    <tr>\n",
       "      <th>25%</th>\n",
       "      <td>5.75000</td>\n",
       "    </tr>\n",
       "    <tr>\n",
       "      <th>50%</th>\n",
       "      <td>10.50000</td>\n",
       "    </tr>\n",
       "    <tr>\n",
       "      <th>75%</th>\n",
       "      <td>15.25000</td>\n",
       "    </tr>\n",
       "    <tr>\n",
       "      <th>max</th>\n",
       "      <td>20.00000</td>\n",
       "    </tr>\n",
       "  </tbody>\n",
       "</table>\n",
       "</div>"
      ],
      "text/plain": [
       "       restaurant_id\n",
       "count       20.00000\n",
       "mean        10.50000\n",
       "std          5.91608\n",
       "min          1.00000\n",
       "25%          5.75000\n",
       "50%         10.50000\n",
       "75%         15.25000\n",
       "max         20.00000"
      ]
     },
     "execution_count": 60,
     "metadata": {},
     "output_type": "execute_result"
    }
   ],
   "source": [
    "restaurants.describe()"
   ]
  },
  {
   "cell_type": "markdown",
   "id": "74afd674-fc10-4871-b039-af6b9f716025",
   "metadata": {},
   "source": [
    "- No __outliers__ as such are found here"
   ]
  },
  {
   "cell_type": "code",
   "execution_count": 61,
   "id": "e821f3d7-cb39-4491-8cf0-3d9510a32f19",
   "metadata": {},
   "outputs": [],
   "source": [
    "# Storing the cleaned restaurants data\n",
    "restaurants.to_pickle('../data/cleaned/restaurants_cleaned.pkl')"
   ]
  }
 ],
 "metadata": {
  "kernelspec": {
   "display_name": "Python 3.11 (ydata)",
   "language": "python",
   "name": "python311"
  },
  "language_info": {
   "codemirror_mode": {
    "name": "ipython",
    "version": 3
   },
   "file_extension": ".py",
   "mimetype": "text/x-python",
   "name": "python",
   "nbconvert_exporter": "python",
   "pygments_lexer": "ipython3",
   "version": "3.11.8"
  }
 },
 "nbformat": 4,
 "nbformat_minor": 5
}
